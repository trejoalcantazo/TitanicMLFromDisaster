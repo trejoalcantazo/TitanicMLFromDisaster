{
  "nbformat": 4,
  "nbformat_minor": 0,
  "metadata": {
    "colab": {
      "provenance": [],
      "toc_visible": true,
      "authorship_tag": "ABX9TyP6XeNsFgNZepGZSDqmHPEo",
      "include_colab_link": true
    },
    "kernelspec": {
      "name": "python3",
      "display_name": "Python 3"
    },
    "language_info": {
      "name": "python"
    }
  },
  "cells": [
    {
      "cell_type": "markdown",
      "metadata": {
        "id": "view-in-github",
        "colab_type": "text"
      },
      "source": [
        "<a href=\"https://colab.research.google.com/github/trejoalcantazo/TitanicMLFromDisaster/blob/main/titanicprediccion_trejo.ipynb\" target=\"_parent\"><img src=\"https://colab.research.google.com/assets/colab-badge.svg\" alt=\"Open In Colab\"/></a>"
      ]
    },
    {
      "cell_type": "markdown",
      "source": [
        "#Predicción de supervivientes del Titanic\n",
        "---\n",
        "\n",
        "ejercicio práctico de Machine Learning sobre el (famoso) accidente ocurrido en el Titanic.La idea principal es buscar un modelo de machine learning que permita inferir un estimado preciso de supervivientes.\n",
        "link de la base de datos: https://www.kaggle.com/competitions/titanic"
      ],
      "metadata": {
        "id": "8RYeaTlSfKUF"
      }
    },
    {
      "cell_type": "code",
      "execution_count": 57,
      "metadata": {
        "id": "cqjaXRTuTFTg"
      },
      "outputs": [],
      "source": [
        "#Se importan la librerias a utilizar\n",
        "import numpy as np\n",
        "import pandas as pd"
      ]
    },
    {
      "cell_type": "code",
      "source": [
        "#Se importa los datos a utilizar de la web\n",
        "url_test = 'https://raw.githubusercontent.com/trejoalcantazo/TitanicMLFromDisaster/main/titanic/test.csv'\n",
        "url_train = 'https://raw.githubusercontent.com/trejoalcantazo/TitanicMLFromDisaster/main/titanic/train.csv'\n",
        "\n",
        "df_test = pd.read_csv(url_test)\n",
        "df_train = pd.read_csv(url_train)\n",
        "\n",
        "print(df_test)\n",
        "print(df_train)"
      ],
      "metadata": {
        "colab": {
          "base_uri": "https://localhost:8080/"
        },
        "id": "BPNZ3FPUTHj-",
        "outputId": "2e21f99c-27d9-47de-fea7-58a5d3462d34"
      },
      "execution_count": 58,
      "outputs": [
        {
          "output_type": "stream",
          "name": "stdout",
          "text": [
            "     PassengerId  Pclass                                          Name  \\\n",
            "0            892       3                              Kelly, Mr. James   \n",
            "1            893       3              Wilkes, Mrs. James (Ellen Needs)   \n",
            "2            894       2                     Myles, Mr. Thomas Francis   \n",
            "3            895       3                              Wirz, Mr. Albert   \n",
            "4            896       3  Hirvonen, Mrs. Alexander (Helga E Lindqvist)   \n",
            "..           ...     ...                                           ...   \n",
            "413         1305       3                            Spector, Mr. Woolf   \n",
            "414         1306       1                  Oliva y Ocana, Dona. Fermina   \n",
            "415         1307       3                  Saether, Mr. Simon Sivertsen   \n",
            "416         1308       3                           Ware, Mr. Frederick   \n",
            "417         1309       3                      Peter, Master. Michael J   \n",
            "\n",
            "        Sex   Age  SibSp  Parch              Ticket      Fare Cabin Embarked  \n",
            "0      male  34.5      0      0              330911    7.8292   NaN        Q  \n",
            "1    female  47.0      1      0              363272    7.0000   NaN        S  \n",
            "2      male  62.0      0      0              240276    9.6875   NaN        Q  \n",
            "3      male  27.0      0      0              315154    8.6625   NaN        S  \n",
            "4    female  22.0      1      1             3101298   12.2875   NaN        S  \n",
            "..      ...   ...    ...    ...                 ...       ...   ...      ...  \n",
            "413    male   NaN      0      0           A.5. 3236    8.0500   NaN        S  \n",
            "414  female  39.0      0      0            PC 17758  108.9000  C105        C  \n",
            "415    male  38.5      0      0  SOTON/O.Q. 3101262    7.2500   NaN        S  \n",
            "416    male   NaN      0      0              359309    8.0500   NaN        S  \n",
            "417    male   NaN      1      1                2668   22.3583   NaN        C  \n",
            "\n",
            "[418 rows x 11 columns]\n",
            "     PassengerId  Survived  Pclass  \\\n",
            "0              1         0       3   \n",
            "1              2         1       1   \n",
            "2              3         1       3   \n",
            "3              4         1       1   \n",
            "4              5         0       3   \n",
            "..           ...       ...     ...   \n",
            "886          887         0       2   \n",
            "887          888         1       1   \n",
            "888          889         0       3   \n",
            "889          890         1       1   \n",
            "890          891         0       3   \n",
            "\n",
            "                                                  Name     Sex   Age  SibSp  \\\n",
            "0                              Braund, Mr. Owen Harris    male  22.0      1   \n",
            "1    Cumings, Mrs. John Bradley (Florence Briggs Th...  female  38.0      1   \n",
            "2                               Heikkinen, Miss. Laina  female  26.0      0   \n",
            "3         Futrelle, Mrs. Jacques Heath (Lily May Peel)  female  35.0      1   \n",
            "4                             Allen, Mr. William Henry    male  35.0      0   \n",
            "..                                                 ...     ...   ...    ...   \n",
            "886                              Montvila, Rev. Juozas    male  27.0      0   \n",
            "887                       Graham, Miss. Margaret Edith  female  19.0      0   \n",
            "888           Johnston, Miss. Catherine Helen \"Carrie\"  female   NaN      1   \n",
            "889                              Behr, Mr. Karl Howell    male  26.0      0   \n",
            "890                                Dooley, Mr. Patrick    male  32.0      0   \n",
            "\n",
            "     Parch            Ticket     Fare Cabin Embarked  \n",
            "0        0         A/5 21171   7.2500   NaN        S  \n",
            "1        0          PC 17599  71.2833   C85        C  \n",
            "2        0  STON/O2. 3101282   7.9250   NaN        S  \n",
            "3        0            113803  53.1000  C123        S  \n",
            "4        0            373450   8.0500   NaN        S  \n",
            "..     ...               ...      ...   ...      ...  \n",
            "886      0            211536  13.0000   NaN        S  \n",
            "887      0            112053  30.0000   B42        S  \n",
            "888      2        W./C. 6607  23.4500   NaN        S  \n",
            "889      0            111369  30.0000  C148        C  \n",
            "890      0            370376   7.7500   NaN        Q  \n",
            "\n",
            "[891 rows x 12 columns]\n"
          ]
        }
      ]
    },
    {
      "cell_type": "markdown",
      "source": [
        "#Entendiendo la data:"
      ],
      "metadata": {
        "id": "OhY5nrsLVCqM"
      }
    },
    {
      "cell_type": "code",
      "source": [
        "#Verifico la cantidad de datos que hay en los dataset\n",
        "print('Cantidad de datos:')\n",
        "print(df_train.shape)\n",
        "print(df_test.shape)"
      ],
      "metadata": {
        "colab": {
          "base_uri": "https://localhost:8080/"
        },
        "id": "HPH8weKSVFof",
        "outputId": "75e93f32-069f-4eb3-b39e-67584f45a131"
      },
      "execution_count": 59,
      "outputs": [
        {
          "output_type": "stream",
          "name": "stdout",
          "text": [
            "Cantidad de datos:\n",
            "(891, 12)\n",
            "(418, 11)\n"
          ]
        }
      ]
    },
    {
      "cell_type": "code",
      "source": [
        "#Verifico el tipo de datos contenida en ambos dataset\n",
        "print('Tipos de datos:')\n",
        "print(df_train.info())\n",
        "print(df_test.info())"
      ],
      "metadata": {
        "colab": {
          "base_uri": "https://localhost:8080/"
        },
        "id": "hFBAKQgwVFYJ",
        "outputId": "e6af83d0-2daa-489d-942c-e09ce74574cf"
      },
      "execution_count": 60,
      "outputs": [
        {
          "output_type": "stream",
          "name": "stdout",
          "text": [
            "Tipos de datos:\n",
            "<class 'pandas.core.frame.DataFrame'>\n",
            "RangeIndex: 891 entries, 0 to 890\n",
            "Data columns (total 12 columns):\n",
            " #   Column       Non-Null Count  Dtype  \n",
            "---  ------       --------------  -----  \n",
            " 0   PassengerId  891 non-null    int64  \n",
            " 1   Survived     891 non-null    int64  \n",
            " 2   Pclass       891 non-null    int64  \n",
            " 3   Name         891 non-null    object \n",
            " 4   Sex          891 non-null    object \n",
            " 5   Age          714 non-null    float64\n",
            " 6   SibSp        891 non-null    int64  \n",
            " 7   Parch        891 non-null    int64  \n",
            " 8   Ticket       891 non-null    object \n",
            " 9   Fare         891 non-null    float64\n",
            " 10  Cabin        204 non-null    object \n",
            " 11  Embarked     889 non-null    object \n",
            "dtypes: float64(2), int64(5), object(5)\n",
            "memory usage: 83.7+ KB\n",
            "None\n",
            "<class 'pandas.core.frame.DataFrame'>\n",
            "RangeIndex: 418 entries, 0 to 417\n",
            "Data columns (total 11 columns):\n",
            " #   Column       Non-Null Count  Dtype  \n",
            "---  ------       --------------  -----  \n",
            " 0   PassengerId  418 non-null    int64  \n",
            " 1   Pclass       418 non-null    int64  \n",
            " 2   Name         418 non-null    object \n",
            " 3   Sex          418 non-null    object \n",
            " 4   Age          332 non-null    float64\n",
            " 5   SibSp        418 non-null    int64  \n",
            " 6   Parch        418 non-null    int64  \n",
            " 7   Ticket       418 non-null    object \n",
            " 8   Fare         417 non-null    float64\n",
            " 9   Cabin        91 non-null     object \n",
            " 10  Embarked     418 non-null    object \n",
            "dtypes: float64(2), int64(4), object(5)\n",
            "memory usage: 36.0+ KB\n",
            "None\n"
          ]
        }
      ]
    },
    {
      "cell_type": "code",
      "source": [
        "#Verifico los datos faltantes de los dataset\n",
        "print('Datos faltantes:')\n",
        "print(pd.isnull(df_train).sum())\n",
        "print(pd.isnull(df_test).sum())"
      ],
      "metadata": {
        "colab": {
          "base_uri": "https://localhost:8080/"
        },
        "id": "rERGRrQcUERZ",
        "outputId": "03eebf3c-6562-41b9-cd0d-335cbc936039"
      },
      "execution_count": 61,
      "outputs": [
        {
          "output_type": "stream",
          "name": "stdout",
          "text": [
            "Datos faltantes:\n",
            "PassengerId      0\n",
            "Survived         0\n",
            "Pclass           0\n",
            "Name             0\n",
            "Sex              0\n",
            "Age            177\n",
            "SibSp            0\n",
            "Parch            0\n",
            "Ticket           0\n",
            "Fare             0\n",
            "Cabin          687\n",
            "Embarked         2\n",
            "dtype: int64\n",
            "PassengerId      0\n",
            "Pclass           0\n",
            "Name             0\n",
            "Sex              0\n",
            "Age             86\n",
            "SibSp            0\n",
            "Parch            0\n",
            "Ticket           0\n",
            "Fare             1\n",
            "Cabin          327\n",
            "Embarked         0\n",
            "dtype: int64\n"
          ]
        }
      ]
    },
    {
      "cell_type": "code",
      "source": [
        "#Verifico las estadísticas del dataset\n",
        "print('Estadísticas del dataset:')\n",
        "print(df_train.describe())\n",
        "print(df_test.describe())"
      ],
      "metadata": {
        "colab": {
          "base_uri": "https://localhost:8080/"
        },
        "id": "94weQ6XEVTwn",
        "outputId": "d9832749-579a-4a06-eb48-38d63efccfa4"
      },
      "execution_count": 62,
      "outputs": [
        {
          "output_type": "stream",
          "name": "stdout",
          "text": [
            "Estadísticas del dataset:\n",
            "       PassengerId    Survived      Pclass         Age       SibSp  \\\n",
            "count   891.000000  891.000000  891.000000  714.000000  891.000000   \n",
            "mean    446.000000    0.383838    2.308642   29.699118    0.523008   \n",
            "std     257.353842    0.486592    0.836071   14.526497    1.102743   \n",
            "min       1.000000    0.000000    1.000000    0.420000    0.000000   \n",
            "25%     223.500000    0.000000    2.000000   20.125000    0.000000   \n",
            "50%     446.000000    0.000000    3.000000   28.000000    0.000000   \n",
            "75%     668.500000    1.000000    3.000000   38.000000    1.000000   \n",
            "max     891.000000    1.000000    3.000000   80.000000    8.000000   \n",
            "\n",
            "            Parch        Fare  \n",
            "count  891.000000  891.000000  \n",
            "mean     0.381594   32.204208  \n",
            "std      0.806057   49.693429  \n",
            "min      0.000000    0.000000  \n",
            "25%      0.000000    7.910400  \n",
            "50%      0.000000   14.454200  \n",
            "75%      0.000000   31.000000  \n",
            "max      6.000000  512.329200  \n",
            "       PassengerId      Pclass         Age       SibSp       Parch        Fare\n",
            "count   418.000000  418.000000  332.000000  418.000000  418.000000  417.000000\n",
            "mean   1100.500000    2.265550   30.272590    0.447368    0.392344   35.627188\n",
            "std     120.810458    0.841838   14.181209    0.896760    0.981429   55.907576\n",
            "min     892.000000    1.000000    0.170000    0.000000    0.000000    0.000000\n",
            "25%     996.250000    1.000000   21.000000    0.000000    0.000000    7.895800\n",
            "50%    1100.500000    3.000000   27.000000    0.000000    0.000000   14.454200\n",
            "75%    1204.750000    3.000000   39.000000    1.000000    0.000000   31.500000\n",
            "max    1309.000000    3.000000   76.000000    8.000000    9.000000  512.329200\n"
          ]
        }
      ]
    },
    {
      "cell_type": "markdown",
      "source": [
        "# Procesamiento de la data: "
      ],
      "metadata": {
        "id": "Pam9mMcKVWqU"
      }
    },
    {
      "cell_type": "code",
      "source": [
        "#Cambio los datos de sexos en números\n",
        "df_train['Sex'].replace(['female','male'],[0,1],inplace=True)\n",
        "df_test['Sex'].replace(['female','male'],[0,1],inplace=True)\n"
      ],
      "metadata": {
        "id": "reNoU2aVV0n5"
      },
      "execution_count": 63,
      "outputs": []
    },
    {
      "cell_type": "code",
      "source": [
        "#compurebo\n",
        "print(df_train['Sex'].head())\n",
        "print(df_test['Sex'].head())"
      ],
      "metadata": {
        "colab": {
          "base_uri": "https://localhost:8080/"
        },
        "id": "rsnRy5SQWErv",
        "outputId": "b14237a3-f77d-4113-fb20-9d875bb9bf96"
      },
      "execution_count": 64,
      "outputs": [
        {
          "output_type": "stream",
          "name": "stdout",
          "text": [
            "0    1\n",
            "1    0\n",
            "2    0\n",
            "3    0\n",
            "4    1\n",
            "Name: Sex, dtype: int64\n",
            "0    1\n",
            "1    0\n",
            "2    1\n",
            "3    1\n",
            "4    0\n",
            "Name: Sex, dtype: int64\n"
          ]
        }
      ]
    },
    {
      "cell_type": "code",
      "source": [
        "#Cambio los datos de embarque en números\n",
        "df_train['Embarked'].replace(['Q','S', 'C'],[0,1,2],inplace=True)\n",
        "df_test['Embarked'].replace(['Q','S', 'C'],[0,1,2],inplace=True)"
      ],
      "metadata": {
        "id": "tCkeGZeFV0gp"
      },
      "execution_count": 65,
      "outputs": []
    },
    {
      "cell_type": "code",
      "source": [
        "#Compruebo el promedio de edad\n",
        "print(df_train[\"Age\"].mean())\n",
        "print(df_test[\"Age\"].mean())"
      ],
      "metadata": {
        "colab": {
          "base_uri": "https://localhost:8080/"
        },
        "id": "MfSDlLKWV0XR",
        "outputId": "de0b5658-b534-45a8-e16e-5ba634366ac5"
      },
      "execution_count": 66,
      "outputs": [
        {
          "output_type": "stream",
          "name": "stdout",
          "text": [
            "29.69911764705882\n",
            "30.272590361445783\n"
          ]
        }
      ]
    },
    {
      "cell_type": "code",
      "source": [
        "#Reemplazo los datos faltantes en la edad por la media de esta columna\n",
        "promedio = 30\n",
        "df_train['Age'] = df_train['Age'].replace(np.nan, promedio)\n",
        "df_test['Age'] = df_test['Age'].replace(np.nan, promedio)"
      ],
      "metadata": {
        "id": "SQB9g0reV9jn"
      },
      "execution_count": 67,
      "outputs": []
    },
    {
      "cell_type": "code",
      "source": [
        "#Creo varios grupos de acuerdo a bandas de las edades\n",
        "#Bandas: 0-8, 9-15, 16-18, 19-25, 26-40, 41-60, 61-100\n",
        "bins = [0, 8, 15, 18, 25, 40, 60, 100]\n",
        "names = ['1', '2', '3', '4', '5', '6', '7']\n",
        "df_train['Age'] = pd.cut(df_train['Age'], bins, labels = names)\n",
        "df_test['Age'] = pd.cut(df_test['Age'], bins, labels = names)"
      ],
      "metadata": {
        "id": "z69ZiyaiWsR1"
      },
      "execution_count": 68,
      "outputs": []
    },
    {
      "cell_type": "code",
      "source": [
        "#Se elimina la columna de \"Cabin\" ya que tiene muchos datos perdidos\n",
        "df_train.drop(['Cabin'], axis = 1, inplace=True)\n",
        "df_test.drop(['Cabin'], axis = 1, inplace=True)"
      ],
      "metadata": {
        "id": "MZchRHGDWveM"
      },
      "execution_count": 69,
      "outputs": []
    },
    {
      "cell_type": "code",
      "source": [
        "#Se elimina la columna de \"Cabin\" ya que tiene muchos datos perdidos\n",
        "df_train.drop(['Cabin'], axis = 1, inplace=True)\n",
        "df_test.drop(['Cabin'], axis = 1, inplace=True)"
      ],
      "metadata": {
        "id": "lHT71TfGXs5X"
      },
      "execution_count": null,
      "outputs": []
    },
    {
      "cell_type": "code",
      "source": [
        "#Elimino las columnas que considero que no son necesarias para el analisis\n",
        "df_train = df_train.drop(['PassengerId','Name','Ticket'], axis=1)\n",
        "df_test = df_test.drop(['Name','Ticket'], axis=1)"
      ],
      "metadata": {
        "id": "qNrxqxUQXypb"
      },
      "execution_count": 72,
      "outputs": []
    },
    {
      "cell_type": "code",
      "source": [
        "#Se elimina las filas con los datos perdidos\n",
        "df_train.dropna(axis=0, how='any', inplace=True)\n",
        "df_test.dropna(axis=0, how='any', inplace=True)"
      ],
      "metadata": {
        "id": "dI8v3UvbX25d"
      },
      "execution_count": 73,
      "outputs": []
    },
    {
      "cell_type": "code",
      "source": [
        "#Verifico los datos\n",
        "print(pd.isnull(df_train).sum())\n",
        "print(pd.isnull(df_test).sum())\n",
        "\n",
        "print(df_train.shape)\n",
        "print(df_test.shape)\n",
        "\n",
        "print(df_test.head())\n",
        "print(df_train.head())"
      ],
      "metadata": {
        "colab": {
          "base_uri": "https://localhost:8080/"
        },
        "id": "xEeJ5RJFX5py",
        "outputId": "3fa4aa07-f9d9-459d-ac13-c4974529edad"
      },
      "execution_count": 74,
      "outputs": [
        {
          "output_type": "stream",
          "name": "stdout",
          "text": [
            "Survived    0\n",
            "Pclass      0\n",
            "Sex         0\n",
            "Age         0\n",
            "SibSp       0\n",
            "Parch       0\n",
            "Fare        0\n",
            "Embarked    0\n",
            "dtype: int64\n",
            "PassengerId    0\n",
            "Pclass         0\n",
            "Sex            0\n",
            "Age            0\n",
            "SibSp          0\n",
            "Parch          0\n",
            "Fare           0\n",
            "Embarked       0\n",
            "dtype: int64\n",
            "(889, 8)\n",
            "(417, 8)\n",
            "   PassengerId  Pclass  Sex Age  SibSp  Parch     Fare  Embarked\n",
            "0          892       3    1   5      0      0   7.8292         0\n",
            "1          893       3    0   6      1      0   7.0000         1\n",
            "2          894       2    1   7      0      0   9.6875         0\n",
            "3          895       3    1   5      0      0   8.6625         1\n",
            "4          896       3    0   4      1      1  12.2875         1\n",
            "   Survived  Pclass  Sex Age  SibSp  Parch     Fare  Embarked\n",
            "0         0       3    1   4      1      0   7.2500       1.0\n",
            "1         1       1    0   5      1      0  71.2833       2.0\n",
            "2         1       3    0   5      0      0   7.9250       1.0\n",
            "3         1       1    0   5      1      0  53.1000       1.0\n",
            "4         0       3    1   5      0      0   8.0500       1.0\n"
          ]
        }
      ]
    },
    {
      "cell_type": "markdown",
      "source": [
        "#Aplicacion algoritmos de machine learning, regresión logística, vectores de soporte y vecinos más cercanos :"
      ],
      "metadata": {
        "id": "6l6KmL-8XEQ6"
      }
    },
    {
      "cell_type": "code",
      "source": [
        "#importo librerias\n",
        "from sklearn.model_selection import train_test_split\n",
        "from sklearn.linear_model import LogisticRegression\n",
        "from sklearn.svm import SVC\n",
        "from sklearn.neighbors import KNeighborsClassifier"
      ],
      "metadata": {
        "id": "e0ZCsqsrW2BN"
      },
      "execution_count": 75,
      "outputs": []
    },
    {
      "cell_type": "code",
      "source": [
        "#Separo la columna con la información de los sobrevivientes\n",
        "X = np.array(df_train.drop(['Survived'], 1))\n",
        "y = np.array(df_train['Survived'])"
      ],
      "metadata": {
        "id": "dyWzPfOeXRui",
        "colab": {
          "base_uri": "https://localhost:8080/"
        },
        "outputId": "6a55988d-7375-44fb-98f1-dbd2ea5dfa92"
      },
      "execution_count": 76,
      "outputs": [
        {
          "output_type": "stream",
          "name": "stderr",
          "text": [
            "<ipython-input-76-76d9b66b1761>:2: FutureWarning: In a future version of pandas all arguments of DataFrame.drop except for the argument 'labels' will be keyword-only\n",
            "  X = np.array(df_train.drop(['Survived'], 1))\n"
          ]
        }
      ]
    },
    {
      "cell_type": "code",
      "source": [
        "#Separo los datos de \"train\" en entrenamiento y prueba para probar los algoritmos\n",
        "X_train, X_test, y_train, y_test = train_test_split(X, y, test_size=0.2) #80% train split"
      ],
      "metadata": {
        "id": "H8OJJSgQXRqg"
      },
      "execution_count": 77,
      "outputs": []
    },
    {
      "cell_type": "code",
      "source": [
        "#Regresión logística, primer algoritmo a prueba\n",
        "logreg = LogisticRegression()\n",
        "logreg.fit(X_train, y_train)\n",
        "Y_pred = logreg.predict(X_test)\n",
        "print('Precisión Regresión Logística:')\n",
        "print(logreg.score(X_train, y_train))"
      ],
      "metadata": {
        "id": "cyJxTKVHXYI8",
        "colab": {
          "base_uri": "https://localhost:8080/"
        },
        "outputId": "6b7935b2-d0f3-4487-eaf9-9d9fa0426beb"
      },
      "execution_count": 78,
      "outputs": [
        {
          "output_type": "stream",
          "name": "stdout",
          "text": [
            "Precisión Regresión Logística:\n",
            "0.810126582278481\n"
          ]
        }
      ]
    },
    {
      "cell_type": "code",
      "source": [
        "##Support Vector Machines\n",
        "svc = SVC()\n",
        "svc.fit(X_train, y_train)\n",
        "Y_pred = svc.predict(X_test)\n",
        "print('Precisión Soporte de Vectores:')\n",
        "print(svc.score(X_train, y_train))"
      ],
      "metadata": {
        "id": "GF_UUruMXX9I",
        "colab": {
          "base_uri": "https://localhost:8080/"
        },
        "outputId": "92fe2b63-fc3e-4705-c03e-97598e909a87"
      },
      "execution_count": 86,
      "outputs": [
        {
          "output_type": "stream",
          "name": "stdout",
          "text": [
            "Precisión Soporte de Vectores:\n",
            "0.6680731364275668\n"
          ]
        }
      ]
    },
    {
      "cell_type": "code",
      "source": [
        "##K neighbors\n",
        "knn = KNeighborsClassifier(n_neighbors = 3)\n",
        "knn.fit(X_train, y_train)\n",
        "Y_pred = knn.predict(X_test)\n",
        "print('Precisión Vecinos más Cercanos:')\n",
        "print(knn.score(X_train, y_train))"
      ],
      "metadata": {
        "id": "TUVfW76sUKT5",
        "colab": {
          "base_uri": "https://localhost:8080/"
        },
        "outputId": "12e96e74-06e8-46b0-ffaa-88ecaac31472"
      },
      "execution_count": 81,
      "outputs": [
        {
          "output_type": "stream",
          "name": "stdout",
          "text": [
            "Precisión Vecinos más Cercanos:\n",
            "0.8579465541490858\n"
          ]
        }
      ]
    },
    {
      "cell_type": "markdown",
      "source": [
        "Breve resumen de los 3 algoritmos probados:\n",
        "\n",
        "1.   Precisión Vecinos más Cercanos: 0.85 (más preciso)\n",
        "2.   Precisión Regresión Logística: 0.81\n",
        "3.   Precisión Soporte de Vectores: 0.66\n"
      ],
      "metadata": {
        "id": "BT5g-QnlbAB2"
      }
    },
    {
      "cell_type": "markdown",
      "source": [
        "#Probando resultados, predicciones (sobrevive = 1, no sobrevive = 0) :"
      ],
      "metadata": {
        "id": "KEgKiyouYVJH"
      }
    },
    {
      "cell_type": "code",
      "source": [
        "ids = df_test['PassengerId'] #definir ID de pasajeros sobrevivientes"
      ],
      "metadata": {
        "id": "0MSsNG0qYwvy"
      },
      "execution_count": 82,
      "outputs": []
    },
    {
      "cell_type": "code",
      "source": [
        "##Regresión logística\n",
        "prediccion_logreg = logreg.predict(df_test.drop('PassengerId', axis=1))\n",
        "out_logreg = pd.DataFrame({ 'PassengerId' : ids, 'Survived': prediccion_logreg })\n",
        "print('Predicción Regresión Logística:')\n",
        "print(out_logreg.head())"
      ],
      "metadata": {
        "colab": {
          "base_uri": "https://localhost:8080/"
        },
        "id": "7yDH9jHxYz-U",
        "outputId": "cedca5a5-f7d4-4e4c-ef37-ee66a7eaa860"
      },
      "execution_count": 93,
      "outputs": [
        {
          "output_type": "stream",
          "name": "stdout",
          "text": [
            "Predicción Regresión Logística:\n",
            "   PassengerId  Survived\n",
            "0          892         0\n",
            "1          893         0\n",
            "2          894         0\n",
            "3          895         0\n",
            "4          896         1\n"
          ]
        },
        {
          "output_type": "stream",
          "name": "stderr",
          "text": [
            "/usr/local/lib/python3.8/dist-packages/sklearn/base.py:443: UserWarning: X has feature names, but LogisticRegression was fitted without feature names\n",
            "  warnings.warn(\n",
            "/usr/local/lib/python3.8/dist-packages/sklearn/base.py:566: FutureWarning: Arrays of bytes/strings is being converted to decimal numbers if dtype='numeric'. This behavior is deprecated in 0.24 and will be removed in 1.1 (renaming of 0.26). Please convert your data to numeric values explicitly instead.\n",
            "  X = check_array(X, **check_params)\n"
          ]
        }
      ]
    },
    {
      "cell_type": "code",
      "source": [
        "##Support Vector Machines\n",
        "prediccion_svc = svc.predict(df_test.drop('PassengerId', axis=1))\n",
        "out_svc = pd.DataFrame({ 'PassengerId' : ids, 'Survived': prediccion_svc })\n",
        "print('Predicción Soporte de Vectores:')\n",
        "print(out_svc.head())"
      ],
      "metadata": {
        "colab": {
          "base_uri": "https://localhost:8080/"
        },
        "id": "0H2wddGbYz6r",
        "outputId": "797185ed-8b83-43b7-b6eb-0d3848c75439"
      },
      "execution_count": 92,
      "outputs": [
        {
          "output_type": "stream",
          "name": "stderr",
          "text": [
            "/usr/local/lib/python3.8/dist-packages/sklearn/base.py:443: UserWarning: X has feature names, but SVC was fitted without feature names\n",
            "  warnings.warn(\n"
          ]
        },
        {
          "output_type": "stream",
          "name": "stdout",
          "text": [
            "Predicción Soporte de Vectores:\n",
            "   PassengerId  Survived\n",
            "0          892         0\n",
            "1          893         0\n",
            "2          894         0\n",
            "3          895         0\n",
            "4          896         0\n"
          ]
        }
      ]
    },
    {
      "cell_type": "code",
      "source": [
        "##K neighbors\n",
        "prediccion_knn = knn.predict(df_test.drop('PassengerId', axis=1))\n",
        "out_knn = pd.DataFrame({ 'PassengerId' : ids, 'Survived': prediccion_knn })\n",
        "print('Predicción Vecinos más Cercanos:')\n",
        "print(out_knn.head())"
      ],
      "metadata": {
        "id": "Fw_-5ao_UOCl",
        "colab": {
          "base_uri": "https://localhost:8080/"
        },
        "outputId": "28c7da24-904a-41ac-9b5b-664e0fa29438"
      },
      "execution_count": 91,
      "outputs": [
        {
          "output_type": "stream",
          "name": "stdout",
          "text": [
            "Predicción Vecinos más Cercanos:\n",
            "   PassengerId  Survived\n",
            "0          892         0\n",
            "1          893         0\n",
            "2          894         1\n",
            "3          895         0\n",
            "4          896         1\n"
          ]
        },
        {
          "output_type": "stream",
          "name": "stderr",
          "text": [
            "/usr/local/lib/python3.8/dist-packages/sklearn/base.py:443: UserWarning: X has feature names, but KNeighborsClassifier was fitted without feature names\n",
            "  warnings.warn(\n",
            "/usr/local/lib/python3.8/dist-packages/sklearn/base.py:566: FutureWarning: Arrays of bytes/strings is being converted to decimal numbers if dtype='numeric'. This behavior is deprecated in 0.24 and will be removed in 1.1 (renaming of 0.26). Please convert your data to numeric values explicitly instead.\n",
            "  X = check_array(X, **check_params)\n"
          ]
        }
      ]
    },
    {
      "cell_type": "markdown",
      "source": [
        "#Conclusion:\n",
        "Segun el modelo \"vecinos más cercanos\" (más preciso) la relacion de Supervivencia ante muerte es de 2:5, seguido por regresión logística con 1:5 y finalmente soporte de vectores con 0:5."
      ],
      "metadata": {
        "id": "UwYYo0tSdke2"
      }
    }
  ]
}